{
  "cells": [
    {
      "cell_type": "markdown",
      "metadata": {
        "id": "view-in-github",
        "colab_type": "text"
      },
      "source": [
        "<a href=\"https://colab.research.google.com/github/NewBieCoderXD/Bernoulli-number-recursion/blob/main/Stat_HW1_part2_simulation_student_.ipynb\" target=\"_parent\"><img src=\"https://colab.research.google.com/assets/colab-badge.svg\" alt=\"Open In Colab\"/></a>"
      ]
    },
    {
      "cell_type": "markdown",
      "metadata": {
        "id": "IA2FNbxZUHQs"
      },
      "source": [
        "# Part 2: ~~Gambling~~ Statistics and Simulation\n",
        "Some stats problem are very complicated and hard to calculate with math alone. To solve this problem, programmers often use simulations instead. By running many experiments in code, we can approximate the underlying statistics without needing to do any calculations.\n",
        "\n",
        "In this part, we'll simulate ~~Horse Race Betting~~ a game where we guess the winner of a horse race.\n",
        "\n",
        "To simplify the problem, let's say that the horses will do a 1000 meters race. Each horse have a specific set of stats, listed in horse_stats.csv.\n",
        "Each stats have the following effect on the horse.\n",
        "- Speed(m/s) : the speed at which the horse normally starts to run\n",
        "- Super Start(percent) : Each horse has a [Super Start] % chance of starting with 20% more speed than usual\n",
        "- Exhaustion(percent) : Each horse has a 30% chance of having its speed lowered by [Exhaustion] % after running for a quarter of the race(250 meters)\n",
        "- Fall chance(percent) : Every 200 meters of running, each horse have [Fall chance] % chance to fall down. Horses that have fallen down must quit the race. On the offchance that every horse falls down, there is no winner and the house takes all the money.\n",
        "\n",
        "Betting rules :\n",
        "- You have 100 UHD(United Horses Dollar).\n",
        "- If the horse you bet on get 1st place, you will be paid 5x the money\n",
        "- If the horse you bet on get 2nd place, you will be paid 4x the money\n",
        "- If the horse you bet on get 3rd place, you will be paid 3x the money"
      ]
    },
    {
      "cell_type": "code",
      "execution_count": null,
      "metadata": {
        "id": "sb3XZcm7UHQw"
      },
      "outputs": [],
      "source": [
        "import numpy as np\n",
        "import pandas as pd\n",
        "import matplotlib.pyplot as plt"
      ]
    },
    {
      "cell_type": "code",
      "source": [
        "!wget https://raw.githubusercontent.com/PacharaWin/CEDT_stat_data_2024/main/HW1/part2_horse_stats.csv"
      ],
      "metadata": {
        "colab": {
          "base_uri": "https://localhost:8080/"
        },
        "id": "VWPAGGScUIqm",
        "outputId": "c60a50f8-d38b-47fc-b5e4-be32c4b1c6eb"
      },
      "execution_count": null,
      "outputs": [
        {
          "output_type": "stream",
          "name": "stdout",
          "text": [
            "--2024-08-07 19:30:02--  https://raw.githubusercontent.com/PacharaWin/CEDT_stat_data_2024/main/HW1/part2_horse_stats.csv\n",
            "Resolving raw.githubusercontent.com (raw.githubusercontent.com)... 185.199.109.133, 185.199.108.133, 185.199.110.133, ...\n",
            "Connecting to raw.githubusercontent.com (raw.githubusercontent.com)|185.199.109.133|:443... connected.\n",
            "HTTP request sent, awaiting response... 200 OK\n",
            "Length: 322 [text/plain]\n",
            "Saving to: ‘part2_horse_stats.csv’\n",
            "\n",
            "part2_horse_stats.c 100%[===================>]     322  --.-KB/s    in 0s      \n",
            "\n",
            "2024-08-07 19:30:03 (3.37 MB/s) - ‘part2_horse_stats.csv’ saved [322/322]\n",
            "\n"
          ]
        }
      ]
    },
    {
      "cell_type": "code",
      "execution_count": null,
      "metadata": {
        "colab": {
          "base_uri": "https://localhost:8080/",
          "height": 425
        },
        "id": "xQEzKT7TUHQy",
        "outputId": "12f0a292-ed01-428b-ea59-199680cd6890"
      },
      "outputs": [
        {
          "output_type": "execute_result",
          "data": {
            "text/plain": [
              "              Name  Speed  Super_Start  Exhaustion  Fall_chance\n",
              "0     Special Week     23            5          25            7\n",
              "1        Gold Ship     19           60          30            2\n",
              "2      Rice Shower     19           70          10            2\n",
              "3            Vodka     22            4           4            4\n",
              "4   Manhattan Cafe     19           90          12            3\n",
              "5    Agnes Tachyon     20           50          10            6\n",
              "6     Grass Wonder     19           50           0            0\n",
              "7           Vivlos     23           10          45            2\n",
              "8   Sirius Symboli     22            5           0            3\n",
              "9   Winning Ticket     27           50           5           30\n",
              "10  Symboli Rudolf     22           30          18            7\n",
              "11     Nice Nature     21           30          25            4"
            ],
            "text/html": [
              "\n",
              "  <div id=\"df-22abad2a-27c8-4115-afd3-1513e5c705be\" class=\"colab-df-container\">\n",
              "    <div>\n",
              "<style scoped>\n",
              "    .dataframe tbody tr th:only-of-type {\n",
              "        vertical-align: middle;\n",
              "    }\n",
              "\n",
              "    .dataframe tbody tr th {\n",
              "        vertical-align: top;\n",
              "    }\n",
              "\n",
              "    .dataframe thead th {\n",
              "        text-align: right;\n",
              "    }\n",
              "</style>\n",
              "<table border=\"1\" class=\"dataframe\">\n",
              "  <thead>\n",
              "    <tr style=\"text-align: right;\">\n",
              "      <th></th>\n",
              "      <th>Name</th>\n",
              "      <th>Speed</th>\n",
              "      <th>Super_Start</th>\n",
              "      <th>Exhaustion</th>\n",
              "      <th>Fall_chance</th>\n",
              "    </tr>\n",
              "  </thead>\n",
              "  <tbody>\n",
              "    <tr>\n",
              "      <th>0</th>\n",
              "      <td>Special Week</td>\n",
              "      <td>23</td>\n",
              "      <td>5</td>\n",
              "      <td>25</td>\n",
              "      <td>7</td>\n",
              "    </tr>\n",
              "    <tr>\n",
              "      <th>1</th>\n",
              "      <td>Gold Ship</td>\n",
              "      <td>19</td>\n",
              "      <td>60</td>\n",
              "      <td>30</td>\n",
              "      <td>2</td>\n",
              "    </tr>\n",
              "    <tr>\n",
              "      <th>2</th>\n",
              "      <td>Rice Shower</td>\n",
              "      <td>19</td>\n",
              "      <td>70</td>\n",
              "      <td>10</td>\n",
              "      <td>2</td>\n",
              "    </tr>\n",
              "    <tr>\n",
              "      <th>3</th>\n",
              "      <td>Vodka</td>\n",
              "      <td>22</td>\n",
              "      <td>4</td>\n",
              "      <td>4</td>\n",
              "      <td>4</td>\n",
              "    </tr>\n",
              "    <tr>\n",
              "      <th>4</th>\n",
              "      <td>Manhattan Cafe</td>\n",
              "      <td>19</td>\n",
              "      <td>90</td>\n",
              "      <td>12</td>\n",
              "      <td>3</td>\n",
              "    </tr>\n",
              "    <tr>\n",
              "      <th>5</th>\n",
              "      <td>Agnes Tachyon</td>\n",
              "      <td>20</td>\n",
              "      <td>50</td>\n",
              "      <td>10</td>\n",
              "      <td>6</td>\n",
              "    </tr>\n",
              "    <tr>\n",
              "      <th>6</th>\n",
              "      <td>Grass Wonder</td>\n",
              "      <td>19</td>\n",
              "      <td>50</td>\n",
              "      <td>0</td>\n",
              "      <td>0</td>\n",
              "    </tr>\n",
              "    <tr>\n",
              "      <th>7</th>\n",
              "      <td>Vivlos</td>\n",
              "      <td>23</td>\n",
              "      <td>10</td>\n",
              "      <td>45</td>\n",
              "      <td>2</td>\n",
              "    </tr>\n",
              "    <tr>\n",
              "      <th>8</th>\n",
              "      <td>Sirius Symboli</td>\n",
              "      <td>22</td>\n",
              "      <td>5</td>\n",
              "      <td>0</td>\n",
              "      <td>3</td>\n",
              "    </tr>\n",
              "    <tr>\n",
              "      <th>9</th>\n",
              "      <td>Winning Ticket</td>\n",
              "      <td>27</td>\n",
              "      <td>50</td>\n",
              "      <td>5</td>\n",
              "      <td>30</td>\n",
              "    </tr>\n",
              "    <tr>\n",
              "      <th>10</th>\n",
              "      <td>Symboli Rudolf</td>\n",
              "      <td>22</td>\n",
              "      <td>30</td>\n",
              "      <td>18</td>\n",
              "      <td>7</td>\n",
              "    </tr>\n",
              "    <tr>\n",
              "      <th>11</th>\n",
              "      <td>Nice Nature</td>\n",
              "      <td>21</td>\n",
              "      <td>30</td>\n",
              "      <td>25</td>\n",
              "      <td>4</td>\n",
              "    </tr>\n",
              "  </tbody>\n",
              "</table>\n",
              "</div>\n",
              "    <div class=\"colab-df-buttons\">\n",
              "\n",
              "  <div class=\"colab-df-container\">\n",
              "    <button class=\"colab-df-convert\" onclick=\"convertToInteractive('df-22abad2a-27c8-4115-afd3-1513e5c705be')\"\n",
              "            title=\"Convert this dataframe to an interactive table.\"\n",
              "            style=\"display:none;\">\n",
              "\n",
              "  <svg xmlns=\"http://www.w3.org/2000/svg\" height=\"24px\" viewBox=\"0 -960 960 960\">\n",
              "    <path d=\"M120-120v-720h720v720H120Zm60-500h600v-160H180v160Zm220 220h160v-160H400v160Zm0 220h160v-160H400v160ZM180-400h160v-160H180v160Zm440 0h160v-160H620v160ZM180-180h160v-160H180v160Zm440 0h160v-160H620v160Z\"/>\n",
              "  </svg>\n",
              "    </button>\n",
              "\n",
              "  <style>\n",
              "    .colab-df-container {\n",
              "      display:flex;\n",
              "      gap: 12px;\n",
              "    }\n",
              "\n",
              "    .colab-df-convert {\n",
              "      background-color: #E8F0FE;\n",
              "      border: none;\n",
              "      border-radius: 50%;\n",
              "      cursor: pointer;\n",
              "      display: none;\n",
              "      fill: #1967D2;\n",
              "      height: 32px;\n",
              "      padding: 0 0 0 0;\n",
              "      width: 32px;\n",
              "    }\n",
              "\n",
              "    .colab-df-convert:hover {\n",
              "      background-color: #E2EBFA;\n",
              "      box-shadow: 0px 1px 2px rgba(60, 64, 67, 0.3), 0px 1px 3px 1px rgba(60, 64, 67, 0.15);\n",
              "      fill: #174EA6;\n",
              "    }\n",
              "\n",
              "    .colab-df-buttons div {\n",
              "      margin-bottom: 4px;\n",
              "    }\n",
              "\n",
              "    [theme=dark] .colab-df-convert {\n",
              "      background-color: #3B4455;\n",
              "      fill: #D2E3FC;\n",
              "    }\n",
              "\n",
              "    [theme=dark] .colab-df-convert:hover {\n",
              "      background-color: #434B5C;\n",
              "      box-shadow: 0px 1px 3px 1px rgba(0, 0, 0, 0.15);\n",
              "      filter: drop-shadow(0px 1px 2px rgba(0, 0, 0, 0.3));\n",
              "      fill: #FFFFFF;\n",
              "    }\n",
              "  </style>\n",
              "\n",
              "    <script>\n",
              "      const buttonEl =\n",
              "        document.querySelector('#df-22abad2a-27c8-4115-afd3-1513e5c705be button.colab-df-convert');\n",
              "      buttonEl.style.display =\n",
              "        google.colab.kernel.accessAllowed ? 'block' : 'none';\n",
              "\n",
              "      async function convertToInteractive(key) {\n",
              "        const element = document.querySelector('#df-22abad2a-27c8-4115-afd3-1513e5c705be');\n",
              "        const dataTable =\n",
              "          await google.colab.kernel.invokeFunction('convertToInteractive',\n",
              "                                                    [key], {});\n",
              "        if (!dataTable) return;\n",
              "\n",
              "        const docLinkHtml = 'Like what you see? Visit the ' +\n",
              "          '<a target=\"_blank\" href=https://colab.research.google.com/notebooks/data_table.ipynb>data table notebook</a>'\n",
              "          + ' to learn more about interactive tables.';\n",
              "        element.innerHTML = '';\n",
              "        dataTable['output_type'] = 'display_data';\n",
              "        await google.colab.output.renderOutput(dataTable, element);\n",
              "        const docLink = document.createElement('div');\n",
              "        docLink.innerHTML = docLinkHtml;\n",
              "        element.appendChild(docLink);\n",
              "      }\n",
              "    </script>\n",
              "  </div>\n",
              "\n",
              "\n",
              "<div id=\"df-30f81751-bfee-4054-9299-71012334b8b5\">\n",
              "  <button class=\"colab-df-quickchart\" onclick=\"quickchart('df-30f81751-bfee-4054-9299-71012334b8b5')\"\n",
              "            title=\"Suggest charts\"\n",
              "            style=\"display:none;\">\n",
              "\n",
              "<svg xmlns=\"http://www.w3.org/2000/svg\" height=\"24px\"viewBox=\"0 0 24 24\"\n",
              "     width=\"24px\">\n",
              "    <g>\n",
              "        <path d=\"M19 3H5c-1.1 0-2 .9-2 2v14c0 1.1.9 2 2 2h14c1.1 0 2-.9 2-2V5c0-1.1-.9-2-2-2zM9 17H7v-7h2v7zm4 0h-2V7h2v10zm4 0h-2v-4h2v4z\"/>\n",
              "    </g>\n",
              "</svg>\n",
              "  </button>\n",
              "\n",
              "<style>\n",
              "  .colab-df-quickchart {\n",
              "      --bg-color: #E8F0FE;\n",
              "      --fill-color: #1967D2;\n",
              "      --hover-bg-color: #E2EBFA;\n",
              "      --hover-fill-color: #174EA6;\n",
              "      --disabled-fill-color: #AAA;\n",
              "      --disabled-bg-color: #DDD;\n",
              "  }\n",
              "\n",
              "  [theme=dark] .colab-df-quickchart {\n",
              "      --bg-color: #3B4455;\n",
              "      --fill-color: #D2E3FC;\n",
              "      --hover-bg-color: #434B5C;\n",
              "      --hover-fill-color: #FFFFFF;\n",
              "      --disabled-bg-color: #3B4455;\n",
              "      --disabled-fill-color: #666;\n",
              "  }\n",
              "\n",
              "  .colab-df-quickchart {\n",
              "    background-color: var(--bg-color);\n",
              "    border: none;\n",
              "    border-radius: 50%;\n",
              "    cursor: pointer;\n",
              "    display: none;\n",
              "    fill: var(--fill-color);\n",
              "    height: 32px;\n",
              "    padding: 0;\n",
              "    width: 32px;\n",
              "  }\n",
              "\n",
              "  .colab-df-quickchart:hover {\n",
              "    background-color: var(--hover-bg-color);\n",
              "    box-shadow: 0 1px 2px rgba(60, 64, 67, 0.3), 0 1px 3px 1px rgba(60, 64, 67, 0.15);\n",
              "    fill: var(--button-hover-fill-color);\n",
              "  }\n",
              "\n",
              "  .colab-df-quickchart-complete:disabled,\n",
              "  .colab-df-quickchart-complete:disabled:hover {\n",
              "    background-color: var(--disabled-bg-color);\n",
              "    fill: var(--disabled-fill-color);\n",
              "    box-shadow: none;\n",
              "  }\n",
              "\n",
              "  .colab-df-spinner {\n",
              "    border: 2px solid var(--fill-color);\n",
              "    border-color: transparent;\n",
              "    border-bottom-color: var(--fill-color);\n",
              "    animation:\n",
              "      spin 1s steps(1) infinite;\n",
              "  }\n",
              "\n",
              "  @keyframes spin {\n",
              "    0% {\n",
              "      border-color: transparent;\n",
              "      border-bottom-color: var(--fill-color);\n",
              "      border-left-color: var(--fill-color);\n",
              "    }\n",
              "    20% {\n",
              "      border-color: transparent;\n",
              "      border-left-color: var(--fill-color);\n",
              "      border-top-color: var(--fill-color);\n",
              "    }\n",
              "    30% {\n",
              "      border-color: transparent;\n",
              "      border-left-color: var(--fill-color);\n",
              "      border-top-color: var(--fill-color);\n",
              "      border-right-color: var(--fill-color);\n",
              "    }\n",
              "    40% {\n",
              "      border-color: transparent;\n",
              "      border-right-color: var(--fill-color);\n",
              "      border-top-color: var(--fill-color);\n",
              "    }\n",
              "    60% {\n",
              "      border-color: transparent;\n",
              "      border-right-color: var(--fill-color);\n",
              "    }\n",
              "    80% {\n",
              "      border-color: transparent;\n",
              "      border-right-color: var(--fill-color);\n",
              "      border-bottom-color: var(--fill-color);\n",
              "    }\n",
              "    90% {\n",
              "      border-color: transparent;\n",
              "      border-bottom-color: var(--fill-color);\n",
              "    }\n",
              "  }\n",
              "</style>\n",
              "\n",
              "  <script>\n",
              "    async function quickchart(key) {\n",
              "      const quickchartButtonEl =\n",
              "        document.querySelector('#' + key + ' button');\n",
              "      quickchartButtonEl.disabled = true;  // To prevent multiple clicks.\n",
              "      quickchartButtonEl.classList.add('colab-df-spinner');\n",
              "      try {\n",
              "        const charts = await google.colab.kernel.invokeFunction(\n",
              "            'suggestCharts', [key], {});\n",
              "      } catch (error) {\n",
              "        console.error('Error during call to suggestCharts:', error);\n",
              "      }\n",
              "      quickchartButtonEl.classList.remove('colab-df-spinner');\n",
              "      quickchartButtonEl.classList.add('colab-df-quickchart-complete');\n",
              "    }\n",
              "    (() => {\n",
              "      let quickchartButtonEl =\n",
              "        document.querySelector('#df-30f81751-bfee-4054-9299-71012334b8b5 button');\n",
              "      quickchartButtonEl.style.display =\n",
              "        google.colab.kernel.accessAllowed ? 'block' : 'none';\n",
              "    })();\n",
              "  </script>\n",
              "</div>\n",
              "\n",
              "  <div id=\"id_103b23be-6996-4680-a2bd-a72e26d737df\">\n",
              "    <style>\n",
              "      .colab-df-generate {\n",
              "        background-color: #E8F0FE;\n",
              "        border: none;\n",
              "        border-radius: 50%;\n",
              "        cursor: pointer;\n",
              "        display: none;\n",
              "        fill: #1967D2;\n",
              "        height: 32px;\n",
              "        padding: 0 0 0 0;\n",
              "        width: 32px;\n",
              "      }\n",
              "\n",
              "      .colab-df-generate:hover {\n",
              "        background-color: #E2EBFA;\n",
              "        box-shadow: 0px 1px 2px rgba(60, 64, 67, 0.3), 0px 1px 3px 1px rgba(60, 64, 67, 0.15);\n",
              "        fill: #174EA6;\n",
              "      }\n",
              "\n",
              "      [theme=dark] .colab-df-generate {\n",
              "        background-color: #3B4455;\n",
              "        fill: #D2E3FC;\n",
              "      }\n",
              "\n",
              "      [theme=dark] .colab-df-generate:hover {\n",
              "        background-color: #434B5C;\n",
              "        box-shadow: 0px 1px 3px 1px rgba(0, 0, 0, 0.15);\n",
              "        filter: drop-shadow(0px 1px 2px rgba(0, 0, 0, 0.3));\n",
              "        fill: #FFFFFF;\n",
              "      }\n",
              "    </style>\n",
              "    <button class=\"colab-df-generate\" onclick=\"generateWithVariable('df')\"\n",
              "            title=\"Generate code using this dataframe.\"\n",
              "            style=\"display:none;\">\n",
              "\n",
              "  <svg xmlns=\"http://www.w3.org/2000/svg\" height=\"24px\"viewBox=\"0 0 24 24\"\n",
              "       width=\"24px\">\n",
              "    <path d=\"M7,19H8.4L18.45,9,17,7.55,7,17.6ZM5,21V16.75L18.45,3.32a2,2,0,0,1,2.83,0l1.4,1.43a1.91,1.91,0,0,1,.58,1.4,1.91,1.91,0,0,1-.58,1.4L9.25,21ZM18.45,9,17,7.55Zm-12,3A5.31,5.31,0,0,0,4.9,8.1,5.31,5.31,0,0,0,1,6.5,5.31,5.31,0,0,0,4.9,4.9,5.31,5.31,0,0,0,6.5,1,5.31,5.31,0,0,0,8.1,4.9,5.31,5.31,0,0,0,12,6.5,5.46,5.46,0,0,0,6.5,12Z\"/>\n",
              "  </svg>\n",
              "    </button>\n",
              "    <script>\n",
              "      (() => {\n",
              "      const buttonEl =\n",
              "        document.querySelector('#id_103b23be-6996-4680-a2bd-a72e26d737df button.colab-df-generate');\n",
              "      buttonEl.style.display =\n",
              "        google.colab.kernel.accessAllowed ? 'block' : 'none';\n",
              "\n",
              "      buttonEl.onclick = () => {\n",
              "        google.colab.notebook.generateWithVariable('df');\n",
              "      }\n",
              "      })();\n",
              "    </script>\n",
              "  </div>\n",
              "\n",
              "    </div>\n",
              "  </div>\n"
            ],
            "application/vnd.google.colaboratory.intrinsic+json": {
              "type": "dataframe",
              "variable_name": "df",
              "summary": "{\n  \"name\": \"df\",\n  \"rows\": 12,\n  \"fields\": [\n    {\n      \"column\": \"Name\",\n      \"properties\": {\n        \"dtype\": \"string\",\n        \"num_unique_values\": 12,\n        \"samples\": [\n          \"Symboli Rudolf\",\n          \"Winning Ticket\",\n          \"Special Week\"\n        ],\n        \"semantic_type\": \"\",\n        \"description\": \"\"\n      }\n    },\n    {\n      \"column\": \"Speed\",\n      \"properties\": {\n        \"dtype\": \"number\",\n        \"std\": 2,\n        \"min\": 19,\n        \"max\": 27,\n        \"num_unique_values\": 6,\n        \"samples\": [\n          23,\n          19,\n          21\n        ],\n        \"semantic_type\": \"\",\n        \"description\": \"\"\n      }\n    },\n    {\n      \"column\": \"Super_Start\",\n      \"properties\": {\n        \"dtype\": \"number\",\n        \"std\": 28,\n        \"min\": 4,\n        \"max\": 90,\n        \"num_unique_values\": 8,\n        \"samples\": [\n          60,\n          50,\n          5\n        ],\n        \"semantic_type\": \"\",\n        \"description\": \"\"\n      }\n    },\n    {\n      \"column\": \"Exhaustion\",\n      \"properties\": {\n        \"dtype\": \"number\",\n        \"std\": 13,\n        \"min\": 0,\n        \"max\": 45,\n        \"num_unique_values\": 9,\n        \"samples\": [\n          5,\n          30,\n          0\n        ],\n        \"semantic_type\": \"\",\n        \"description\": \"\"\n      }\n    },\n    {\n      \"column\": \"Fall_chance\",\n      \"properties\": {\n        \"dtype\": \"number\",\n        \"std\": 7,\n        \"min\": 0,\n        \"max\": 30,\n        \"num_unique_values\": 7,\n        \"samples\": [\n          7,\n          2,\n          0\n        ],\n        \"semantic_type\": \"\",\n        \"description\": \"\"\n      }\n    }\n  ]\n}"
            }
          },
          "metadata": {},
          "execution_count": 3
        }
      ],
      "source": [
        "df = pd.read_csv(\"/content/part2_horse_stats.csv\")\n",
        "df"
      ]
    },
    {
      "cell_type": "code",
      "execution_count": null,
      "metadata": {
        "id": "pA-cB-lWUHQ0"
      },
      "outputs": [],
      "source": [
        "# To make this easier to understand, lets split the data in to 5 arrays,\n",
        "name = df['Name'].to_numpy()\n",
        "speed = df['Speed'].to_numpy()\n",
        "super_start = df['Super_Start'].to_numpy()\n",
        "exhaustion = df['Exhaustion'].to_numpy()\n",
        "fall_chance = df['Fall_chance'].to_numpy()"
      ]
    },
    {
      "cell_type": "markdown",
      "metadata": {
        "id": "OL3TKx-FUHQ1"
      },
      "source": [
        "#### TODO 1: Super Start"
      ]
    },
    {
      "cell_type": "markdown",
      "source": [
        "Hint: This might be helpful https://numpy.org/doc/stable/reference/random/generated/numpy.random.rand.html"
      ],
      "metadata": {
        "id": "4hs2WcLN1vSq"
      }
    },
    {
      "cell_type": "code",
      "execution_count": null,
      "metadata": {
        "id": "hlNzMGirUHQ1"
      },
      "outputs": [],
      "source": [
        "def calc_start_speed(speed,super_start):\n",
        "    # TODO1: Calculate the starting speed of the horse (don't forget super start)\n",
        "    # Super Start(percent) : Each horse has a [Super Start] % chance of starting with 20% more speed than usual\n",
        "    # return start_speed, a numpy array with shape (12,) containing the starting speed of each horse\n",
        "\n",
        "    start_speed = np.zeros(12)\n",
        "\n",
        "    #### your code here\n",
        "    start_speed\n",
        "\n",
        "    ####\n",
        "    return start_speed"
      ]
    },
    {
      "cell_type": "code",
      "source": [],
      "metadata": {
        "id": "X0g7pOjjVx7h"
      },
      "execution_count": null,
      "outputs": []
    },
    {
      "cell_type": "code",
      "execution_count": null,
      "metadata": {
        "id": "xj7J77bcUHQ2"
      },
      "outputs": [],
      "source": [
        "# sanity check 1\n",
        "# try running the function a few times, some of the horses should get a boost in speed\n",
        "start_speed = calc_start_speed(speed,super_start)\n",
        "ind = np.arange(12)\n",
        "width = 0.35\n",
        "bars1 = plt.bar(ind, speed, width, label='normal speed')\n",
        "bars2 = plt.bar(ind + width, start_speed, width, label='start speed')\n",
        "plt.title(\"Normal Speed vs Start Speed\")\n",
        "plt.xlabel(\"Horse id\")\n",
        "plt.ylabel(\"speed\")\n",
        "plt.legend()\n",
        "plt.show()"
      ]
    },
    {
      "cell_type": "markdown",
      "metadata": {
        "id": "nYkzKaa-UHQ3"
      },
      "source": [
        "#### TODO 2: Exhaustion"
      ]
    },
    {
      "cell_type": "code",
      "execution_count": null,
      "metadata": {
        "id": "xLEOAkNIUHQ3"
      },
      "outputs": [],
      "source": [
        "def calc_quarter_speed(start_speed,exhaustion):\n",
        "    # TODO2: Calculate the speed after each quarter\n",
        "    # Exhaustion(percent) : Each horse has a 30% chance of having its speed lowered by [Exhaustion] % after running for a quarter of the race(250 meters)\n",
        "    # return quarter_speed, a numpy array with shape (12,4) with each column being the speed of each horse in quarter 1,2,3,4\n",
        "\n",
        "    quarter_speed = np.zeros((len(speed),4))\n",
        "    quarter_speed[:,0] = start_speed\n",
        "\n",
        "    #### your code here\n",
        "\n",
        "\n",
        "\n",
        "    ####\n",
        "    return quarter_speed"
      ]
    },
    {
      "cell_type": "code",
      "execution_count": null,
      "metadata": {
        "id": "OxGUax8JUHQ4"
      },
      "outputs": [],
      "source": [
        "# sanity check 2\n",
        "# try running the function a few times, speed of some horses should go down as the race goes on.\n",
        "quarter_speed = calc_quarter_speed(start_speed,exhaustion)\n",
        "plt.plot(range(1,5),quarter_speed.T,'.-')\n",
        "plt.title(\"Speed vs Quarter\")\n",
        "plt.xlabel(\"Quarter\")\n",
        "plt.ylabel(\"Speed\")\n",
        "plt.show()\n"
      ]
    },
    {
      "cell_type": "markdown",
      "metadata": {
        "id": "wZ2W6WDIUHQ5"
      },
      "source": [
        "#### TODO 3: Fall Chance"
      ]
    },
    {
      "cell_type": "code",
      "execution_count": null,
      "metadata": {
        "id": "xyE_FEEbUHQ5"
      },
      "outputs": [],
      "source": [
        "def calc_fell_over(fall_chance):\n",
        "    # TODO3 : Calculate if the horse fell over\n",
        "    # Fall chance(percent) : Every \"200 meters\" of running, each horse have [Fall chance] % chance to fall down.\n",
        "    # return fallen, a numpy array with shape (12,) with containing a boolean(True/False) representing whether each horse fell at any point in the race.\n",
        "\n",
        "    fallen = np.zeros(12,dtype=bool)\n",
        "\n",
        "    #### your code here\n",
        "\n",
        "\n",
        "    ####\n",
        "    return fallen"
      ]
    },
    {
      "cell_type": "code",
      "execution_count": null,
      "metadata": {
        "id": "lUX6CQj7UHQ5"
      },
      "outputs": [],
      "source": [
        "# sanity check 3\n",
        "# Winning Ticket has a high chance to fall, run this code a few times to see if this is true\n",
        "for i in range(10):\n",
        "    fallen = calc_fell_over(fall_chance)\n",
        "    print(fallen[9])"
      ]
    },
    {
      "cell_type": "code",
      "execution_count": null,
      "metadata": {
        "id": "uAeIffQLUHQ5"
      },
      "outputs": [],
      "source": [
        "def calc_winner(quarter_speed,fallen):\n",
        "    # this function return a list containing top 3, return empty list if no winner\n",
        "    quarter_time = 250/quarter_speed\n",
        "    final_time = np.sum(quarter_time,axis=1)\n",
        "    rankings = np.argsort(final_time)\n",
        "    winners = [a for a in rankings if not fallen[a]]\n",
        "    return winners[:3]\n",
        "def race(speed,super_start,exhaustion,fall_chance):\n",
        "    start_speed = calc_start_speed(speed,super_start)\n",
        "    quarter_speed = calc_quarter_speed(start_speed,exhaustion)\n",
        "    fallen = calc_fell_over(fall_chance)\n",
        "    winners = calc_winner(quarter_speed,fallen)\n",
        "    return winners"
      ]
    },
    {
      "cell_type": "markdown",
      "metadata": {
        "id": "03O14i64UHQ6"
      },
      "source": [
        "#### TODO 4: Histogram\n",
        "Simulate the race 10000 times, plot the histogram of the number of 1st place for each horse"
      ]
    },
    {
      "cell_type": "code",
      "execution_count": null,
      "metadata": {
        "id": "e9QiZCjxUHQ6"
      },
      "outputs": [],
      "source": [
        "np.random.seed(0)\n",
        "# your code here\n"
      ]
    },
    {
      "cell_type": "markdown",
      "metadata": {
        "id": "6N9IGPKCUHQ6"
      },
      "source": [
        "#### TODO 5: Betting Strategy\n",
        "We have two betting strategy \\\n",
        "Strategy 1: bet all 100 UHD on horse#9 Winning Ticket \\\n",
        "Strategy 2: split the money into 3 parts, bet each part on horse#6 Grass Wonder, horse#7 Vivlos and horse#8 Sirius Symboli\n",
        "\n",
        "Simulate the race 10000 times. What is the expected value of the winnings from each strategy?\n"
      ]
    },
    {
      "cell_type": "code",
      "execution_count": null,
      "metadata": {
        "id": "pQtAb3ZzUHQ6"
      },
      "outputs": [],
      "source": [
        "np.random.seed(0)\n",
        "# add your code here\n"
      ]
    },
    {
      "cell_type": "markdown",
      "metadata": {
        "id": "HxA7bpvjUHQ6"
      },
      "source": [
        "#### Optional: Master Strategist\n",
        "Could you explain why going all in on #9 (who has the highest chance of getting 1st) is worse than betting on #7 (who has lower chance of getting 1st than #9) + #6 and #8 (who have even lower chance of getting 1st)\n",
        "\n",
        "hint: you might want to plot a few more histogram :)"
      ]
    }
  ],
  "metadata": {
    "kernelspec": {
      "display_name": "pytorch",
      "language": "python",
      "name": "python3"
    },
    "language_info": {
      "codemirror_mode": {
        "name": "ipython",
        "version": 3
      },
      "file_extension": ".py",
      "mimetype": "text/x-python",
      "name": "python",
      "nbconvert_exporter": "python",
      "pygments_lexer": "ipython3",
      "version": "3.10.14"
    },
    "colab": {
      "provenance": [],
      "include_colab_link": true
    }
  },
  "nbformat": 4,
  "nbformat_minor": 0
}